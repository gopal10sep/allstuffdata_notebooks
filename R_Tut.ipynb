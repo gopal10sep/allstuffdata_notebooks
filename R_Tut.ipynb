{
 "cells": [
  {
   "cell_type": "code",
   "execution_count": 2,
   "metadata": {},
   "outputs": [],
   "source": [
    "t = list(range(1, 101))"
   ]
  },
  {
   "cell_type": "code",
   "execution_count": 6,
   "metadata": {},
   "outputs": [
    {
     "data": {
      "text/plain": [
       "50.5"
      ]
     },
     "execution_count": 6,
     "metadata": {},
     "output_type": "execute_result"
    }
   ],
   "source": [
    "import statistics\n",
    "statistics.mean(t)"
   ]
  },
  {
   "cell_type": "code",
   "execution_count": 9,
   "metadata": {},
   "outputs": [],
   "source": [
    "a = [3]*100"
   ]
  },
  {
   "cell_type": "code",
   "execution_count": 12,
   "metadata": {},
   "outputs": [
    {
     "data": {
      "text/plain": [
       "0"
      ]
     },
     "execution_count": 12,
     "metadata": {},
     "output_type": "execute_result"
    }
   ],
   "source": [
    "(statistics.variance(a))"
   ]
  },
  {
   "cell_type": "code",
   "execution_count": 14,
   "metadata": {},
   "outputs": [
    {
     "data": {
      "text/plain": [
       "-1.7545762888455734"
      ]
     },
     "execution_count": 14,
     "metadata": {},
     "output_type": "execute_result"
    }
   ],
   "source": [
    "import numpy as np\n",
    "np.random.normal()"
   ]
  },
  {
   "cell_type": "code",
   "execution_count": 15,
   "metadata": {},
   "outputs": [
    {
     "data": {
      "text/plain": [
       "'/Users/gopal/Desktop/AllStuffData/Django_Local/mysite/notebooks'"
      ]
     },
     "execution_count": 15,
     "metadata": {},
     "output_type": "execute_result"
    }
   ],
   "source": [
    "import os\n",
    "os.getcwd()"
   ]
  },
  {
   "cell_type": "code",
   "execution_count": 16,
   "metadata": {},
   "outputs": [],
   "source": [
    "import pandas as pd\n",
    "df = pd.read_csv('/Users/gopal/Downloads/wb_dev_ind.csv')"
   ]
  },
  {
   "cell_type": "code",
   "execution_count": 17,
   "metadata": {},
   "outputs": [
    {
     "data": {
      "text/html": [
       "<div>\n",
       "<style scoped>\n",
       "    .dataframe tbody tr th:only-of-type {\n",
       "        vertical-align: middle;\n",
       "    }\n",
       "\n",
       "    .dataframe tbody tr th {\n",
       "        vertical-align: top;\n",
       "    }\n",
       "\n",
       "    .dataframe thead th {\n",
       "        text-align: right;\n",
       "    }\n",
       "</style>\n",
       "<table border=\"1\" class=\"dataframe\">\n",
       "  <thead>\n",
       "    <tr style=\"text-align: right;\">\n",
       "      <th></th>\n",
       "      <th>countrycode</th>\n",
       "      <th>countryname</th>\n",
       "      <th>gdp_per_capita</th>\n",
       "      <th>literacy_female</th>\n",
       "      <th>literacy_male</th>\n",
       "      <th>literacy_all</th>\n",
       "      <th>infant_mortality</th>\n",
       "    </tr>\n",
       "  </thead>\n",
       "  <tbody>\n",
       "    <tr>\n",
       "      <td>0</td>\n",
       "      <td>ABW</td>\n",
       "      <td>Aruba</td>\n",
       "      <td>19912.75700</td>\n",
       "      <td>96.719780</td>\n",
       "      <td>96.940529</td>\n",
       "      <td>96.822639</td>\n",
       "      <td>NaN</td>\n",
       "    </tr>\n",
       "    <tr>\n",
       "      <td>1</td>\n",
       "      <td>ADO</td>\n",
       "      <td>Andorra</td>\n",
       "      <td>35628.41100</td>\n",
       "      <td>NaN</td>\n",
       "      <td>NaN</td>\n",
       "      <td>NaN</td>\n",
       "      <td>2.2</td>\n",
       "    </tr>\n",
       "    <tr>\n",
       "      <td>2</td>\n",
       "      <td>AFG</td>\n",
       "      <td>Afghanistan</td>\n",
       "      <td>415.00348</td>\n",
       "      <td>17.612062</td>\n",
       "      <td>45.417099</td>\n",
       "      <td>31.741117</td>\n",
       "      <td>70.2</td>\n",
       "    </tr>\n",
       "    <tr>\n",
       "      <td>3</td>\n",
       "      <td>AGO</td>\n",
       "      <td>Angola</td>\n",
       "      <td>2737.87710</td>\n",
       "      <td>59.147549</td>\n",
       "      <td>82.474831</td>\n",
       "      <td>70.580368</td>\n",
       "      <td>101.6</td>\n",
       "    </tr>\n",
       "    <tr>\n",
       "      <td>4</td>\n",
       "      <td>ALB</td>\n",
       "      <td>Albania</td>\n",
       "      <td>4090.86490</td>\n",
       "      <td>95.691483</td>\n",
       "      <td>98.008163</td>\n",
       "      <td>96.845299</td>\n",
       "      <td>13.3</td>\n",
       "    </tr>\n",
       "    <tr>\n",
       "      <td>...</td>\n",
       "      <td>...</td>\n",
       "      <td>...</td>\n",
       "      <td>...</td>\n",
       "      <td>...</td>\n",
       "      <td>...</td>\n",
       "      <td>...</td>\n",
       "      <td>...</td>\n",
       "    </tr>\n",
       "    <tr>\n",
       "      <td>209</td>\n",
       "      <td>YEM</td>\n",
       "      <td>Yemen, Rep.</td>\n",
       "      <td>742.19559</td>\n",
       "      <td>50.158169</td>\n",
       "      <td>82.580627</td>\n",
       "      <td>66.373772</td>\n",
       "      <td>40.4</td>\n",
       "    </tr>\n",
       "    <tr>\n",
       "      <td>210</td>\n",
       "      <td>ZAF</td>\n",
       "      <td>South Africa</td>\n",
       "      <td>5916.46260</td>\n",
       "      <td>92.586250</td>\n",
       "      <td>94.963722</td>\n",
       "      <td>93.729469</td>\n",
       "      <td>32.8</td>\n",
       "    </tr>\n",
       "    <tr>\n",
       "      <td>211</td>\n",
       "      <td>ZAR</td>\n",
       "      <td>Congo, Dem. Rep.</td>\n",
       "      <td>288.15843</td>\n",
       "      <td>46.104256</td>\n",
       "      <td>76.915688</td>\n",
       "      <td>61.205544</td>\n",
       "      <td>86.1</td>\n",
       "    </tr>\n",
       "    <tr>\n",
       "      <td>212</td>\n",
       "      <td>ZMB</td>\n",
       "      <td>Zambia</td>\n",
       "      <td>1053.60370</td>\n",
       "      <td>51.786968</td>\n",
       "      <td>71.947433</td>\n",
       "      <td>61.428288</td>\n",
       "      <td>55.8</td>\n",
       "    </tr>\n",
       "    <tr>\n",
       "      <td>213</td>\n",
       "      <td>ZWE</td>\n",
       "      <td>Zimbabwe</td>\n",
       "      <td>475.30222</td>\n",
       "      <td>80.065659</td>\n",
       "      <td>87.764809</td>\n",
       "      <td>83.582718</td>\n",
       "      <td>55.0</td>\n",
       "    </tr>\n",
       "  </tbody>\n",
       "</table>\n",
       "<p>214 rows × 7 columns</p>\n",
       "</div>"
      ],
      "text/plain": [
       "    countrycode       countryname  gdp_per_capita  literacy_female  \\\n",
       "0           ABW             Aruba     19912.75700        96.719780   \n",
       "1           ADO           Andorra     35628.41100              NaN   \n",
       "2           AFG       Afghanistan       415.00348        17.612062   \n",
       "3           AGO            Angola      2737.87710        59.147549   \n",
       "4           ALB           Albania      4090.86490        95.691483   \n",
       "..          ...               ...             ...              ...   \n",
       "209         YEM       Yemen, Rep.       742.19559        50.158169   \n",
       "210         ZAF      South Africa      5916.46260        92.586250   \n",
       "211         ZAR  Congo, Dem. Rep.       288.15843        46.104256   \n",
       "212         ZMB            Zambia      1053.60370        51.786968   \n",
       "213         ZWE          Zimbabwe       475.30222        80.065659   \n",
       "\n",
       "     literacy_male  literacy_all  infant_mortality  \n",
       "0        96.940529     96.822639               NaN  \n",
       "1              NaN           NaN               2.2  \n",
       "2        45.417099     31.741117              70.2  \n",
       "3        82.474831     70.580368             101.6  \n",
       "4        98.008163     96.845299              13.3  \n",
       "..             ...           ...               ...  \n",
       "209      82.580627     66.373772              40.4  \n",
       "210      94.963722     93.729469              32.8  \n",
       "211      76.915688     61.205544              86.1  \n",
       "212      71.947433     61.428288              55.8  \n",
       "213      87.764809     83.582718              55.0  \n",
       "\n",
       "[214 rows x 7 columns]"
      ]
     },
     "execution_count": 17,
     "metadata": {},
     "output_type": "execute_result"
    }
   ],
   "source": [
    "df"
   ]
  },
  {
   "cell_type": "code",
   "execution_count": 18,
   "metadata": {},
   "outputs": [
    {
     "data": {
      "text/plain": [
       "12967.162275979903"
      ]
     },
     "execution_count": 18,
     "metadata": {},
     "output_type": "execute_result"
    }
   ],
   "source": [
    "df.gdp_per_capita.mean()"
   ]
  },
  {
   "cell_type": "code",
   "execution_count": 19,
   "metadata": {},
   "outputs": [
    {
     "data": {
      "text/plain": [
       "20760.618526830247"
      ]
     },
     "execution_count": 19,
     "metadata": {},
     "output_type": "execute_result"
    }
   ],
   "source": [
    "df.gdp_per_capita.std()\n"
   ]
  },
  {
   "cell_type": "code",
   "execution_count": 26,
   "metadata": {},
   "outputs": [
    {
     "data": {
      "text/plain": [
       "17.848773298701303"
      ]
     },
     "execution_count": 26,
     "metadata": {},
     "output_type": "execute_result"
    }
   ],
   "source": [
    "100-df.literacy_all.mean()"
   ]
  },
  {
   "cell_type": "code",
   "execution_count": 21,
   "metadata": {},
   "outputs": [
    {
     "data": {
      "text/plain": [
       "20.275007354843407"
      ]
     },
     "execution_count": 21,
     "metadata": {},
     "output_type": "execute_result"
    }
   ],
   "source": [
    "df.literacy_all.std()"
   ]
  },
  {
   "cell_type": "code",
   "execution_count": 22,
   "metadata": {},
   "outputs": [],
   "source": [
    "df = df.set_index('countrycode')"
   ]
  },
  {
   "cell_type": "code",
   "execution_count": 24,
   "metadata": {},
   "outputs": [
    {
     "data": {
      "text/plain": [
       "countryname           India\n",
       "gdp_per_capita         1165\n",
       "literacy_female     50.8238\n",
       "literacy_male       75.1919\n",
       "literacy_all        62.7545\n",
       "infant_mortality       41.4\n",
       "Name: IND, dtype: object"
      ]
     },
     "execution_count": 24,
     "metadata": {},
     "output_type": "execute_result"
    }
   ],
   "source": [
    "df.loc['IND']"
   ]
  },
  {
   "cell_type": "code",
   "execution_count": 27,
   "metadata": {},
   "outputs": [
    {
     "data": {
      "text/plain": [
       "count    192.000000\n",
       "mean      25.611458\n",
       "std       23.887747\n",
       "min        1.600000\n",
       "25%        7.075000\n",
       "50%       15.250000\n",
       "75%       39.650000\n",
       "max      107.200000\n",
       "Name: infant_mortality, dtype: float64"
      ]
     },
     "execution_count": 27,
     "metadata": {},
     "output_type": "execute_result"
    }
   ],
   "source": [
    "df.infant_mortality.describe()"
   ]
  },
  {
   "cell_type": "code",
   "execution_count": 30,
   "metadata": {},
   "outputs": [
    {
     "data": {
      "text/plain": [
       "14.081544798701344"
      ]
     },
     "execution_count": 30,
     "metadata": {},
     "output_type": "execute_result"
    }
   ],
   "source": [
    "100- df.literacy_male.mean()\n"
   ]
  },
  {
   "cell_type": "code",
   "execution_count": 31,
   "metadata": {},
   "outputs": [
    {
     "data": {
      "text/plain": [
       "21.455428380519464"
      ]
     },
     "execution_count": 31,
     "metadata": {},
     "output_type": "execute_result"
    }
   ],
   "source": [
    "100-df.literacy_female.mean()"
   ]
  },
  {
   "cell_type": "code",
   "execution_count": 56,
   "metadata": {},
   "outputs": [
    {
     "data": {
      "text/html": [
       "<div>\n",
       "<style scoped>\n",
       "    .dataframe tbody tr th:only-of-type {\n",
       "        vertical-align: middle;\n",
       "    }\n",
       "\n",
       "    .dataframe tbody tr th {\n",
       "        vertical-align: top;\n",
       "    }\n",
       "\n",
       "    .dataframe thead th {\n",
       "        text-align: right;\n",
       "    }\n",
       "</style>\n",
       "<table border=\"1\" class=\"dataframe\">\n",
       "  <thead>\n",
       "    <tr style=\"text-align: right;\">\n",
       "      <th></th>\n",
       "      <th>countryname</th>\n",
       "      <th>gdp_per_capita</th>\n",
       "      <th>literacy_female</th>\n",
       "      <th>literacy_male</th>\n",
       "      <th>literacy_all</th>\n",
       "      <th>infant_mortality</th>\n",
       "      <th>illiteracy</th>\n",
       "    </tr>\n",
       "    <tr>\n",
       "      <th>countrycode</th>\n",
       "      <th></th>\n",
       "      <th></th>\n",
       "      <th></th>\n",
       "      <th></th>\n",
       "      <th></th>\n",
       "      <th></th>\n",
       "      <th></th>\n",
       "    </tr>\n",
       "  </thead>\n",
       "  <tbody>\n",
       "    <tr>\n",
       "      <td>BDI</td>\n",
       "      <td>Burundi</td>\n",
       "      <td>155.24535</td>\n",
       "      <td>84.591469</td>\n",
       "      <td>88.776184</td>\n",
       "      <td>86.947868</td>\n",
       "      <td>54.8</td>\n",
       "      <td>13.052132</td>\n",
       "    </tr>\n",
       "    <tr>\n",
       "      <td>ERI</td>\n",
       "      <td>Eritrea</td>\n",
       "      <td>196.63307</td>\n",
       "      <td>61.258438</td>\n",
       "      <td>80.105820</td>\n",
       "      <td>70.491760</td>\n",
       "      <td>36.1</td>\n",
       "      <td>29.508240</td>\n",
       "    </tr>\n",
       "    <tr>\n",
       "      <td>MWI</td>\n",
       "      <td>Malawi</td>\n",
       "      <td>264.24804</td>\n",
       "      <td>51.251965</td>\n",
       "      <td>72.097656</td>\n",
       "      <td>61.309723</td>\n",
       "      <td>44.2</td>\n",
       "      <td>38.690277</td>\n",
       "    </tr>\n",
       "    <tr>\n",
       "      <td>MDG</td>\n",
       "      <td>Madagascar</td>\n",
       "      <td>270.69226</td>\n",
       "      <td>61.641407</td>\n",
       "      <td>67.417305</td>\n",
       "      <td>64.480904</td>\n",
       "      <td>39.6</td>\n",
       "      <td>35.519096</td>\n",
       "    </tr>\n",
       "    <tr>\n",
       "      <td>CAF</td>\n",
       "      <td>Central African Republic</td>\n",
       "      <td>282.57107</td>\n",
       "      <td>24.355490</td>\n",
       "      <td>50.712711</td>\n",
       "      <td>36.752609</td>\n",
       "      <td>96.1</td>\n",
       "      <td>63.247391</td>\n",
       "    </tr>\n",
       "  </tbody>\n",
       "</table>\n",
       "</div>"
      ],
      "text/plain": [
       "                          countryname  gdp_per_capita  literacy_female  \\\n",
       "countrycode                                                              \n",
       "BDI                           Burundi       155.24535        84.591469   \n",
       "ERI                           Eritrea       196.63307        61.258438   \n",
       "MWI                            Malawi       264.24804        51.251965   \n",
       "MDG                        Madagascar       270.69226        61.641407   \n",
       "CAF          Central African Republic       282.57107        24.355490   \n",
       "\n",
       "             literacy_male  literacy_all  infant_mortality  illiteracy  \n",
       "countrycode                                                             \n",
       "BDI              88.776184     86.947868              54.8   13.052132  \n",
       "ERI              80.105820     70.491760              36.1   29.508240  \n",
       "MWI              72.097656     61.309723              44.2   38.690277  \n",
       "MDG              67.417305     64.480904              39.6   35.519096  \n",
       "CAF              50.712711     36.752609              96.1   63.247391  "
      ]
     },
     "execution_count": 56,
     "metadata": {},
     "output_type": "execute_result"
    }
   ],
   "source": [
    "df = df.sort_values(by='gdp_per_capita',ascending=True)\n",
    "df.head()"
   ]
  },
  {
   "cell_type": "code",
   "execution_count": 57,
   "metadata": {},
   "outputs": [],
   "source": [
    "df['illiteracy'] = 100-df['literacy_all']"
   ]
  },
  {
   "cell_type": "code",
   "execution_count": 58,
   "metadata": {},
   "outputs": [
    {
     "data": {
      "text/html": [
       "<div>\n",
       "<style scoped>\n",
       "    .dataframe tbody tr th:only-of-type {\n",
       "        vertical-align: middle;\n",
       "    }\n",
       "\n",
       "    .dataframe tbody tr th {\n",
       "        vertical-align: top;\n",
       "    }\n",
       "\n",
       "    .dataframe thead th {\n",
       "        text-align: right;\n",
       "    }\n",
       "</style>\n",
       "<table border=\"1\" class=\"dataframe\">\n",
       "  <thead>\n",
       "    <tr style=\"text-align: right;\">\n",
       "      <th></th>\n",
       "      <th>countryname</th>\n",
       "      <th>gdp_per_capita</th>\n",
       "      <th>literacy_female</th>\n",
       "      <th>literacy_male</th>\n",
       "      <th>literacy_all</th>\n",
       "      <th>infant_mortality</th>\n",
       "      <th>illiteracy</th>\n",
       "    </tr>\n",
       "    <tr>\n",
       "      <th>countrycode</th>\n",
       "      <th></th>\n",
       "      <th></th>\n",
       "      <th></th>\n",
       "      <th></th>\n",
       "      <th></th>\n",
       "      <th></th>\n",
       "      <th></th>\n",
       "    </tr>\n",
       "  </thead>\n",
       "  <tbody>\n",
       "    <tr>\n",
       "      <td>BDI</td>\n",
       "      <td>Burundi</td>\n",
       "      <td>155.24535</td>\n",
       "      <td>84.591469</td>\n",
       "      <td>88.776184</td>\n",
       "      <td>86.947868</td>\n",
       "      <td>54.8</td>\n",
       "      <td>13.052132</td>\n",
       "    </tr>\n",
       "    <tr>\n",
       "      <td>ERI</td>\n",
       "      <td>Eritrea</td>\n",
       "      <td>196.63307</td>\n",
       "      <td>61.258438</td>\n",
       "      <td>80.105820</td>\n",
       "      <td>70.491760</td>\n",
       "      <td>36.1</td>\n",
       "      <td>29.508240</td>\n",
       "    </tr>\n",
       "    <tr>\n",
       "      <td>MWI</td>\n",
       "      <td>Malawi</td>\n",
       "      <td>264.24804</td>\n",
       "      <td>51.251965</td>\n",
       "      <td>72.097656</td>\n",
       "      <td>61.309723</td>\n",
       "      <td>44.2</td>\n",
       "      <td>38.690277</td>\n",
       "    </tr>\n",
       "    <tr>\n",
       "      <td>MDG</td>\n",
       "      <td>Madagascar</td>\n",
       "      <td>270.69226</td>\n",
       "      <td>61.641407</td>\n",
       "      <td>67.417305</td>\n",
       "      <td>64.480904</td>\n",
       "      <td>39.6</td>\n",
       "      <td>35.519096</td>\n",
       "    </tr>\n",
       "    <tr>\n",
       "      <td>CAF</td>\n",
       "      <td>Central African Republic</td>\n",
       "      <td>282.57107</td>\n",
       "      <td>24.355490</td>\n",
       "      <td>50.712711</td>\n",
       "      <td>36.752609</td>\n",
       "      <td>96.1</td>\n",
       "      <td>63.247391</td>\n",
       "    </tr>\n",
       "  </tbody>\n",
       "</table>\n",
       "</div>"
      ],
      "text/plain": [
       "                          countryname  gdp_per_capita  literacy_female  \\\n",
       "countrycode                                                              \n",
       "BDI                           Burundi       155.24535        84.591469   \n",
       "ERI                           Eritrea       196.63307        61.258438   \n",
       "MWI                            Malawi       264.24804        51.251965   \n",
       "MDG                        Madagascar       270.69226        61.641407   \n",
       "CAF          Central African Republic       282.57107        24.355490   \n",
       "\n",
       "             literacy_male  literacy_all  infant_mortality  illiteracy  \n",
       "countrycode                                                             \n",
       "BDI              88.776184     86.947868              54.8   13.052132  \n",
       "ERI              80.105820     70.491760              36.1   29.508240  \n",
       "MWI              72.097656     61.309723              44.2   38.690277  \n",
       "MDG              67.417305     64.480904              39.6   35.519096  \n",
       "CAF              50.712711     36.752609              96.1   63.247391  "
      ]
     },
     "execution_count": 58,
     "metadata": {},
     "output_type": "execute_result"
    }
   ],
   "source": [
    "df1 = df[:50]\n",
    "df1.head()"
   ]
  },
  {
   "cell_type": "code",
   "execution_count": 59,
   "metadata": {},
   "outputs": [
    {
     "data": {
      "text/plain": [
       "count     50.000000\n",
       "mean      54.096000\n",
       "std       18.736595\n",
       "min       19.000000\n",
       "25%       40.525000\n",
       "50%       53.700000\n",
       "75%       64.700000\n",
       "max      107.200000\n",
       "Name: infant_mortality, dtype: float64"
      ]
     },
     "execution_count": 59,
     "metadata": {},
     "output_type": "execute_result"
    }
   ],
   "source": [
    "df1.infant_mortality.describe()"
   ]
  },
  {
   "cell_type": "code",
   "execution_count": 51,
   "metadata": {},
   "outputs": [
    {
     "data": {
      "text/plain": [
       "count    48.000000\n",
       "mean     40.593268\n",
       "std      19.890917\n",
       "min       0.262558\n",
       "25%      28.337934\n",
       "50%      39.192255\n",
       "75%      54.755980\n",
       "max      84.543303\n",
       "Name: illiteracy, dtype: float64"
      ]
     },
     "execution_count": 51,
     "metadata": {},
     "output_type": "execute_result"
    }
   ],
   "source": [
    "df1.illiteracy.describe()"
   ]
  },
  {
   "cell_type": "code",
   "execution_count": 37,
   "metadata": {},
   "outputs": [
    {
     "data": {
      "text/plain": [
       "40.593268"
      ]
     },
     "execution_count": 37,
     "metadata": {},
     "output_type": "execute_result"
    }
   ],
   "source": [
    "100-59.406732"
   ]
  },
  {
   "cell_type": "code",
   "execution_count": 38,
   "metadata": {},
   "outputs": [
    {
     "data": {
      "text/plain": [
       "0.2625579999999985"
      ]
     },
     "execution_count": 38,
     "metadata": {},
     "output_type": "execute_result"
    }
   ],
   "source": [
    "100-99.737442"
   ]
  },
  {
   "cell_type": "code",
   "execution_count": 39,
   "metadata": {},
   "outputs": [
    {
     "data": {
      "text/plain": [
       "84.543303"
      ]
     },
     "execution_count": 39,
     "metadata": {},
     "output_type": "execute_result"
    }
   ],
   "source": [
    "100-15.456697"
   ]
  },
  {
   "cell_type": "code",
   "execution_count": 60,
   "metadata": {},
   "outputs": [
    {
     "data": {
      "text/html": [
       "<div>\n",
       "<style scoped>\n",
       "    .dataframe tbody tr th:only-of-type {\n",
       "        vertical-align: middle;\n",
       "    }\n",
       "\n",
       "    .dataframe tbody tr th {\n",
       "        vertical-align: top;\n",
       "    }\n",
       "\n",
       "    .dataframe thead th {\n",
       "        text-align: right;\n",
       "    }\n",
       "</style>\n",
       "<table border=\"1\" class=\"dataframe\">\n",
       "  <thead>\n",
       "    <tr style=\"text-align: right;\">\n",
       "      <th></th>\n",
       "      <th>countryname</th>\n",
       "      <th>gdp_per_capita</th>\n",
       "      <th>literacy_female</th>\n",
       "      <th>literacy_male</th>\n",
       "      <th>literacy_all</th>\n",
       "      <th>infant_mortality</th>\n",
       "      <th>illiteracy</th>\n",
       "    </tr>\n",
       "    <tr>\n",
       "      <th>countrycode</th>\n",
       "      <th></th>\n",
       "      <th></th>\n",
       "      <th></th>\n",
       "      <th></th>\n",
       "      <th></th>\n",
       "      <th></th>\n",
       "      <th></th>\n",
       "    </tr>\n",
       "  </thead>\n",
       "  <tbody>\n",
       "    <tr>\n",
       "      <td>BDI</td>\n",
       "      <td>Burundi</td>\n",
       "      <td>155.24535</td>\n",
       "      <td>84.591469</td>\n",
       "      <td>88.776184</td>\n",
       "      <td>86.947868</td>\n",
       "      <td>54.8</td>\n",
       "      <td>13.052132</td>\n",
       "    </tr>\n",
       "    <tr>\n",
       "      <td>ERI</td>\n",
       "      <td>Eritrea</td>\n",
       "      <td>196.63307</td>\n",
       "      <td>61.258438</td>\n",
       "      <td>80.105820</td>\n",
       "      <td>70.491760</td>\n",
       "      <td>36.1</td>\n",
       "      <td>29.508240</td>\n",
       "    </tr>\n",
       "    <tr>\n",
       "      <td>MWI</td>\n",
       "      <td>Malawi</td>\n",
       "      <td>264.24804</td>\n",
       "      <td>51.251965</td>\n",
       "      <td>72.097656</td>\n",
       "      <td>61.309723</td>\n",
       "      <td>44.2</td>\n",
       "      <td>38.690277</td>\n",
       "    </tr>\n",
       "    <tr>\n",
       "      <td>MDG</td>\n",
       "      <td>Madagascar</td>\n",
       "      <td>270.69226</td>\n",
       "      <td>61.641407</td>\n",
       "      <td>67.417305</td>\n",
       "      <td>64.480904</td>\n",
       "      <td>39.6</td>\n",
       "      <td>35.519096</td>\n",
       "    </tr>\n",
       "    <tr>\n",
       "      <td>CAF</td>\n",
       "      <td>Central African Republic</td>\n",
       "      <td>282.57107</td>\n",
       "      <td>24.355490</td>\n",
       "      <td>50.712711</td>\n",
       "      <td>36.752609</td>\n",
       "      <td>96.1</td>\n",
       "      <td>63.247391</td>\n",
       "    </tr>\n",
       "    <tr>\n",
       "      <td>...</td>\n",
       "      <td>...</td>\n",
       "      <td>...</td>\n",
       "      <td>...</td>\n",
       "      <td>...</td>\n",
       "      <td>...</td>\n",
       "      <td>...</td>\n",
       "      <td>...</td>\n",
       "    </tr>\n",
       "    <tr>\n",
       "      <td>SOM</td>\n",
       "      <td>Somalia</td>\n",
       "      <td>NaN</td>\n",
       "      <td>NaN</td>\n",
       "      <td>NaN</td>\n",
       "      <td>NaN</td>\n",
       "      <td>89.8</td>\n",
       "      <td>NaN</td>\n",
       "    </tr>\n",
       "    <tr>\n",
       "      <td>SSD</td>\n",
       "      <td>South Sudan</td>\n",
       "      <td>NaN</td>\n",
       "      <td>NaN</td>\n",
       "      <td>NaN</td>\n",
       "      <td>NaN</td>\n",
       "      <td>64.1</td>\n",
       "      <td>NaN</td>\n",
       "    </tr>\n",
       "    <tr>\n",
       "      <td>SXM</td>\n",
       "      <td>Sint Maarten (Dutch part)</td>\n",
       "      <td>NaN</td>\n",
       "      <td>NaN</td>\n",
       "      <td>NaN</td>\n",
       "      <td>NaN</td>\n",
       "      <td>NaN</td>\n",
       "      <td>NaN</td>\n",
       "    </tr>\n",
       "    <tr>\n",
       "      <td>TCA</td>\n",
       "      <td>Turks and Caicos Islands</td>\n",
       "      <td>NaN</td>\n",
       "      <td>NaN</td>\n",
       "      <td>NaN</td>\n",
       "      <td>NaN</td>\n",
       "      <td>NaN</td>\n",
       "      <td>NaN</td>\n",
       "    </tr>\n",
       "    <tr>\n",
       "      <td>VIR</td>\n",
       "      <td>Virgin Islands (U.S.)</td>\n",
       "      <td>NaN</td>\n",
       "      <td>NaN</td>\n",
       "      <td>NaN</td>\n",
       "      <td>NaN</td>\n",
       "      <td>NaN</td>\n",
       "      <td>NaN</td>\n",
       "    </tr>\n",
       "  </tbody>\n",
       "</table>\n",
       "<p>214 rows × 7 columns</p>\n",
       "</div>"
      ],
      "text/plain": [
       "                           countryname  gdp_per_capita  literacy_female  \\\n",
       "countrycode                                                               \n",
       "BDI                            Burundi       155.24535        84.591469   \n",
       "ERI                            Eritrea       196.63307        61.258438   \n",
       "MWI                             Malawi       264.24804        51.251965   \n",
       "MDG                         Madagascar       270.69226        61.641407   \n",
       "CAF           Central African Republic       282.57107        24.355490   \n",
       "...                                ...             ...              ...   \n",
       "SOM                            Somalia             NaN              NaN   \n",
       "SSD                        South Sudan             NaN              NaN   \n",
       "SXM          Sint Maarten (Dutch part)             NaN              NaN   \n",
       "TCA           Turks and Caicos Islands             NaN              NaN   \n",
       "VIR              Virgin Islands (U.S.)             NaN              NaN   \n",
       "\n",
       "             literacy_male  literacy_all  infant_mortality  illiteracy  \n",
       "countrycode                                                             \n",
       "BDI              88.776184     86.947868              54.8   13.052132  \n",
       "ERI              80.105820     70.491760              36.1   29.508240  \n",
       "MWI              72.097656     61.309723              44.2   38.690277  \n",
       "MDG              67.417305     64.480904              39.6   35.519096  \n",
       "CAF              50.712711     36.752609              96.1   63.247391  \n",
       "...                    ...           ...               ...         ...  \n",
       "SOM                    NaN           NaN              89.8         NaN  \n",
       "SSD                    NaN           NaN              64.1         NaN  \n",
       "SXM                    NaN           NaN               NaN         NaN  \n",
       "TCA                    NaN           NaN               NaN         NaN  \n",
       "VIR                    NaN           NaN               NaN         NaN  \n",
       "\n",
       "[214 rows x 7 columns]"
      ]
     },
     "execution_count": 60,
     "metadata": {},
     "output_type": "execute_result"
    }
   ],
   "source": [
    "df"
   ]
  },
  {
   "cell_type": "code",
   "execution_count": 61,
   "metadata": {},
   "outputs": [
    {
     "data": {
      "text/plain": [
       "4109.5961"
      ]
     },
     "execution_count": 61,
     "metadata": {},
     "output_type": "execute_result"
    }
   ],
   "source": [
    "df.gdp_per_capita.median()"
   ]
  },
  {
   "cell_type": "code",
   "execution_count": null,
   "metadata": {},
   "outputs": [],
   "source": [
    "## Without a constant\n",
    "\n",
    "import statsmodels.api as sm\n",
    "\n",
    "X = df[\"RM\"]\n",
    "y = df[\"MEDV\"]\n",
    "\n",
    "# Note the difference in argument order\n",
    "model = sm.OLS(y, X).fit()\n",
    "predictions = model.predict(X) # make the predictions by the model\n",
    "\n",
    "# Print out the statistics\n",
    "model.summary()"
   ]
  },
  {
   "cell_type": "code",
   "execution_count": 68,
   "metadata": {},
   "outputs": [],
   "source": [
    "df = df.reset_index()\n"
   ]
  },
  {
   "cell_type": "code",
   "execution_count": 72,
   "metadata": {},
   "outputs": [],
   "source": [
    "df = df.dropna()"
   ]
  },
  {
   "cell_type": "code",
   "execution_count": 63,
   "metadata": {},
   "outputs": [],
   "source": [
    "from sklearn.linear_model import LinearRegression\n",
    "import numpy as np\n",
    "import matplotlib.pyplot as plt  # To visualize"
   ]
  },
  {
   "cell_type": "code",
   "execution_count": null,
   "metadata": {},
   "outputs": [],
   "source": [
    "X = data.iloc[:, 0].values.reshape(-1, 1)  # values converts it into a numpy array\n",
    "Y = data.iloc[:, 1].values.reshape(-1, 1)  # -1 means that calculate the dimension of rows, but have 1 column"
   ]
  },
  {
   "cell_type": "code",
   "execution_count": 73,
   "metadata": {},
   "outputs": [],
   "source": [
    "X = df.infant_mortality.values.reshape(-1, 1) \n",
    "Y = df.gdp_per_capita.values.reshape(-1, 1) "
   ]
  },
  {
   "cell_type": "code",
   "execution_count": 74,
   "metadata": {},
   "outputs": [
    {
     "data": {
      "text/plain": [
       "False"
      ]
     },
     "execution_count": 74,
     "metadata": {},
     "output_type": "execute_result"
    }
   ],
   "source": [
    "np.any(np.isnan(X))"
   ]
  },
  {
   "cell_type": "code",
   "execution_count": 75,
   "metadata": {},
   "outputs": [
    {
     "data": {
      "text/plain": [
       "True"
      ]
     },
     "execution_count": 75,
     "metadata": {},
     "output_type": "execute_result"
    }
   ],
   "source": [
    "np.all(np.isfinite(X))"
   ]
  },
  {
   "cell_type": "code",
   "execution_count": 79,
   "metadata": {},
   "outputs": [],
   "source": [
    "linear_regressor = LinearRegression()  # create object for the class\n",
    "linear_regressor.fit(Y, X)  # perform linear regression\n",
    "Y_pred = linear_regressor.predict(Y)  # make predictions"
   ]
  },
  {
   "cell_type": "code",
   "execution_count": 80,
   "metadata": {},
   "outputs": [
    {
     "data": {
      "image/png": "[encoded data removed]",
      "text/plain": [
       "<Figure size 432x288 with 1 Axes>"
      ]
     },
     "metadata": {
      "needs_background": "light"
     },
     "output_type": "display_data"
    }
   ],
   "source": [
    "plt.scatter(X, Y)\n",
    "plt.plot(X, Y_pred, color='red')\n",
    "plt.show()"
   ]
  },
  {
   "cell_type": "code",
   "execution_count": 81,
   "metadata": {},
   "outputs": [
    {
     "name": "stdout",
     "output_type": "stream",
     "text": [
      "Coefficients: \n",
      " [[-0.00138811]]\n"
     ]
    }
   ],
   "source": [
    "\n",
    "# The coefficients\n",
    "print('Coefficients: \\n', linear_regressor.coef_)\n",
    "# The mean squared error\n",
    "# print('Mean squared error: %.2f'\n",
    "#       % mean_squared_error(diabetes_y_test, diabetes_y_pred))\n",
    "# # The coefficient of determination: 1 is perfect prediction\n",
    "# print('Coefficient of determination: %.2f'\n",
    "#       % r2_score(diabetes_y_test, diabetes_y_pred))"
   ]
  },
  {
   "cell_type": "code",
   "execution_count": null,
   "metadata": {},
   "outputs": [],
   "source": []
  }
 ],
 "metadata": {
  "kernelspec": {
   "display_name": "Python 3",
   "language": "python",
   "name": "python3"
  },
  "language_info": {
   "codemirror_mode": {
    "name": "ipython",
    "version": 3
   },
   "file_extension": ".py",
   "mimetype": "text/x-python",
   "name": "python",
   "nbconvert_exporter": "python",
   "pygments_lexer": "ipython3",
   "version": "3.7.4"
  }
 },
 "nbformat": 4,
 "nbformat_minor": 4
}
